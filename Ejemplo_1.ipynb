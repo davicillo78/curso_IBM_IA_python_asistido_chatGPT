{
 "cells": [
  {
   "cell_type": "markdown",
   "id": "55cd56f6",
   "metadata": {},
   "source": [
    "# Ejemplo 1 #\n",
    "## Función de \"corrección y refactorización\" ##"
   ]
  },
  {
   "cell_type": "markdown",
   "id": "4959fcde",
   "metadata": {},
   "source": [
    "Abriremos el archivo llamado \"funciones.py\" dentro de la carpeta archivos\\01-funcion"
   ]
  },
  {
   "cell_type": "code",
   "execution_count": 24,
   "id": "7704528c",
   "metadata": {},
   "outputs": [
    {
     "ename": "SyntaxError",
     "evalue": "'(' was never closed (3572030830.py, line 5)",
     "output_type": "error",
     "traceback": [
      "  \u001b[36mCell\u001b[39m\u001b[36m \u001b[39m\u001b[32mIn[24]\u001b[39m\u001b[32m, line 5\u001b[39m\n\u001b[31m    \u001b[39m\u001b[31mnumero1 = input(\"Ingresa un número: \"\u001b[39m\n                   ^\n\u001b[31mSyntaxError\u001b[39m\u001b[31m:\u001b[39m '(' was never closed\n"
     ]
    }
   ],
   "source": [
    "def division(numero1, numero2):\n",
    "    resultado = numero1 / numero2\n",
    "    return resultado\n",
    "\n",
    "numero1 = input(\"Ingresa un número: \"\n",
    "numero2 = input(\"Ingresa otro número: \")\n",
    "resultado = dividir_dos_numeros(numero1, numero2)\n",
    "print(\"El resultado de la división es:\", resultado)"
   ]
  },
  {
   "cell_type": "markdown",
   "id": "378a2fa8",
   "metadata": {},
   "source": [
    "Como vemos, este código contiene numerosos errores.\n",
    "Vamos a pedir a chatGPT que soluciones los errores.\n",
    "\n",
    "Peticion: \"La siguiente función tiene fallos. Ayúdame aidentificarlos y solucionarlos\""
   ]
  },
  {
   "cell_type": "markdown",
   "id": "d0942211",
   "metadata": {},
   "source": [
    "##### Respuesta de ChatGPT: #####\n",
    "\n",
    "¡Buena observación! Aquí hay varios errores en tu código y cómo corregirlos:\n",
    "\n",
    "🛑 Errores identificados:\n",
    "Nombre incorrecto de la función Estás definiendo la función como division(numero1, numero2), pero luego intentas llamar a dividir_dos_numeros(numero1, numero2), que no existe.\n",
    "\n",
    "Error al manejar la entrada del usuario (input()) input() siempre devuelve una cadena (str), por lo que necesitas convertirlo a número antes de la operación.\n",
    "\n",
    "Posible división por cero No hay una verificación para evitar divisiones por cero, lo que generaría un error."
   ]
  },
  {
   "cell_type": "code",
   "execution_count": 28,
   "id": "ef2f7108",
   "metadata": {},
   "outputs": [
    {
     "name": "stdout",
     "output_type": "stream",
     "text": [
      "Error: Ingresa valores numéricos válidos.\n"
     ]
    }
   ],
   "source": [
    "# A continuación nos proporciona el código de la función corregido de errores.\n",
    "\n",
    "def division(numero1, numero2):\n",
    "    try:\n",
    "        resultado = numero1 / numero2\n",
    "        return resultado\n",
    "    except ZeroDivisionError:\n",
    "        return \"Error: No se puede dividir por cero.\"\n",
    "\n",
    "# Convertir las entradas a números\n",
    "try:\n",
    "    numero1 = float(input(\"Ingresa un número: \"))\n",
    "    numero2 = float(input(\"Ingresa otro número: \"))\n",
    "    \n",
    "    resultado = division(numero1, numero2)  # Ahora usamos la función correcta\n",
    "    print(\"El resultado de la división es:\", resultado)\n",
    "\n",
    "except ValueError:\n",
    "    print(\"Error: Ingresa valores numéricos válidos.\")"
   ]
  },
  {
   "cell_type": "markdown",
   "id": "52ec2348",
   "metadata": {},
   "source": [
    "Podemos ver que ha corregido los errores básicos del código e incluso ha tomado en cuenta otros posibles errores que podrían presentarse, tales como que quisiéramos dividir un número por 0. En este caso ha escrito una sentencia try-except() para evitar ese error.\n",
    "Y además te da una explicación de la solución:\n",
    "\n",
    "##### 🔍 Explicaciones de la corrección #####\n",
    "\n",
    "- Falta un paréntesis de cierre en la línea 5\n",
    "\n",
    "- Ahora el código usa float() para convertir las entradas en números.\n",
    "\n",
    "- Se reemplazó dividir_dos_numeros() por division(), que es la función correcta.\n",
    "\n",
    "- Se agregaron manejadores de excepciones (try-except) para evitar errores de división por cero y asegurar que el usuario ingrese números válidos.\n",
    "\n",
    "¡Listo! Ahora tu código es más robusto y seguro. ¿Te gustaría agregar alguna funcionalidad adicional? 🚀"
   ]
  },
  {
   "cell_type": "code",
   "execution_count": null,
   "id": "b808ee16",
   "metadata": {},
   "outputs": [],
   "source": []
  }
 ],
 "metadata": {
  "kernelspec": {
   "display_name": "Python 3",
   "language": "python",
   "name": "python3"
  },
  "language_info": {
   "codemirror_mode": {
    "name": "ipython",
    "version": 3
   },
   "file_extension": ".py",
   "mimetype": "text/x-python",
   "name": "python",
   "nbconvert_exporter": "python",
   "pygments_lexer": "ipython3",
   "version": "3.13.3"
  }
 },
 "nbformat": 4,
 "nbformat_minor": 5
}
